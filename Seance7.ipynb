{
  "nbformat": 4,
  "nbformat_minor": 0,
  "metadata": {
    "kernelspec": {
      "display_name": "Python 3",
      "language": "python",
      "name": "python3"
    },
    "language_info": {
      "codemirror_mode": {
        "name": "ipython",
        "version": 3
      },
      "file_extension": ".py",
      "mimetype": "text/x-python",
      "name": "python",
      "nbconvert_exporter": "python",
      "pygments_lexer": "ipython3",
      "version": "3.7.6"
    },
    "colab": {
      "name": "Seance7.ipynb",
      "provenance": [],
      "collapsed_sections": []
    }
  },
  "cells": [
    {
      "cell_type": "markdown",
      "metadata": {
        "id": "EF-wbwVgCFMb"
      },
      "source": [
        "En utilisant numpy:"
      ]
    },
    {
      "cell_type": "markdown",
      "metadata": {
        "id": "4swK5BJOCFMc"
      },
      "source": [
        "Ex 1 :Addition\n",
        "Écrire un programme pour lire les éléments de deux matrices et ajoutez les deux matrices dans la troisième.\n",
        "\n",
        "La somme de deux matrices de taille (m,n), $(A_{ij})$ et $(B_{ij})$ notée $A+B$  est à nouveau une matrice $(C_{ij})$ de taille (m,n), obtenue en additionnant les éléments correspondants: $c_{ij}=a_{ij}+b_{ij}$\n"
      ]
    },
    {
      "cell_type": "code",
      "metadata": {
        "colab": {
          "base_uri": "https://localhost:8080/"
        },
        "id": "avdHa0NKCFMc",
        "outputId": "efd8a31d-9e89-4153-8606-9e74e479c857"
      },
      "source": [
        "import numpy as np\n",
        "\n",
        "m1 = np.array([[1,5,2], [5,9,6], [9,4,6]])\n",
        "m2 = np.array([[5,1,1], [4,5,6], [2,9,1]])\n",
        "\n",
        "def addition(m1, m2):\n",
        "  print(\"M1 : \", m1)\n",
        "  print(\"M2 : \", m2)\n",
        "  return m1+m2\n",
        "\n",
        "print(\"M3 : \", addition(m1,m2))\n"
      ],
      "execution_count": 4,
      "outputs": [
        {
          "output_type": "stream",
          "text": [
            "A :  [[1 5 2]\n",
            " [5 9 6]\n",
            " [9 4 6]]\n",
            "B :  [[5 1 1]\n",
            " [4 5 6]\n",
            " [2 9 1]]\n",
            "C :  [[ 6  6  3]\n",
            " [ 9 14 12]\n",
            " [11 13  7]]\n"
          ],
          "name": "stdout"
        }
      ]
    },
    {
      "cell_type": "markdown",
      "metadata": {
        "id": "NBb_od9SCFMc"
      },
      "source": [
        "Ex2 :Multiplication\n",
        "Écrire un programme pour lire les éléments de deux matrices, puis multipliez les deux matrices dans la troisième.\n",
        "\n",
        "Deux matrices ne peuvent être multipliées que si le nombre de colonnes de la première matrice est le même que le nombre de lignes de la seconde matrice.\n",
        "\n",
        "Si $ A=(a_{ij})$ est une matrice de taille (m,n), $ B=(b_{ij})$ et est une matrice de taille (n,p), alors leur produit, noté $AB=(c_{ij})$ est une matrice de taille (m,p) définie par :\n",
        "$$\\forall i,j : c_{ij}=\\sum_{k=i}^{n} a_{ik}*b_{kj}$$"
      ]
    },
    {
      "cell_type": "code",
      "metadata": {
        "colab": {
          "base_uri": "https://localhost:8080/"
        },
        "id": "DKCgBebaCFMc",
        "outputId": "fe7a7c74-5609-478c-d2d2-8d4bbf3444ca"
      },
      "source": [
        "import numpy as np\n",
        "\n",
        "def multiplication(m1, m2):\n",
        "  m3 = np.zeros((m1.shape[0], m2.shape[1]))\n",
        "  if m1.shape[1] == m2.shape[0]:\n",
        "    for i in range(m1.shape[0]):\n",
        "      for j in range(m2.shape[1]):\n",
        "        coef = 0\n",
        "        for k in range(m1.shape[1]):\n",
        "          coef += m1[i][k]*m2[k][j]\n",
        "        m3[i][j] = coef\n",
        "    return m3\n",
        "  else:\n",
        "    return \"Impossible de multiplier les 2 matrices\"\n",
        "\n",
        "m1 = np.array([[1,5,2], [5,9,6], [9,4,6]])\n",
        "m2 = np.array([[5,1,1], [4,5,6], [2,9,1]])\n",
        "\n",
        "print(\"M1 : \", m1)\n",
        "print(\"M2 : \", m2)\n",
        "print(\"M3 : \", multiplication(m1,m2))\n"
      ],
      "execution_count": 10,
      "outputs": [
        {
          "output_type": "stream",
          "text": [
            "M1 :  [[1 5 2]\n",
            " [5 9 6]\n",
            " [9 4 6]]\n",
            "M2 :  [[5 1 1]\n",
            " [4 5 6]\n",
            " [2 9 1]]\n",
            "M3 :  [[ 29.  44.  33.]\n",
            " [ 73. 104.  65.]\n",
            " [ 73.  83.  39.]]\n"
          ],
          "name": "stdout"
        }
      ]
    },
    {
      "cell_type": "markdown",
      "metadata": {
        "id": "uOuHSRL7CFMc"
      },
      "source": [
        "Ex 3: Matrice de Markov\n",
        "\n",
        "Une matrice de Markov est une matrice carrée dont chaque élément est un réel compris entre 0 et 1 et dont la somme des éléments de chaque ligne vaut 1. Cela correspond, en probabilité, à la matrice de transition d'une chaîne de Markov finie.\n",
        "\n",
        "Une matrice est dite bistochastique (ou doublement stochastique) si la somme des éléments de chaque ligne et de chaque colonne vaut 1.\n",
        "\n",
        "1. Ecrire une fonction eststochastique(P) qui permet de vérifier est ce que la matrice P est stochastique ou non\n",
        "2. Ecrire une fonction estbistochastique(P) qui permet de vérifier est ce que la matrice P est bistochastique ou non\n",
        "3. Ecrire une fonction vecteurstable(G, h) qui permet de vérifier est ce que h est un vecteur stable de G ou non\n",
        "\n"
      ]
    },
    {
      "cell_type": "code",
      "metadata": {
        "colab": {
          "base_uri": "https://localhost:8080/"
        },
        "id": "gGEC8OqECFMc",
        "outputId": "191c19a5-6161-41c1-fc19-54feb30fbbd5"
      },
      "source": [
        "import numpy as np\n",
        "\n",
        "def eststochastique(m):\n",
        "  for i in range(m.shape[0]):\n",
        "    somme = 0\n",
        "    for j in range(m.shape[1]):\n",
        "      somme += m[i][j]\n",
        "    if somme > 1 or somme < 1:\n",
        "      return False\n",
        "  return True\n",
        "\n",
        "def estbistochastique(m):\n",
        "  if eststochastique(m) is True:\n",
        "    for j in range(m.shape[1]):\n",
        "      somme = 0\n",
        "      for i in range(m.shape[0]):\n",
        "        somme += m[i][j]\n",
        "      if somme > 1 or somme < 1:\n",
        "        return False\n",
        "    return True\n",
        "  else:\n",
        "    return False\n",
        "\n",
        "m = np.array([[0.5,0.5],[0.2,0.8]])\n",
        "\n",
        "print(eststochastique(m))\n",
        "print(estbistochastique(m))"
      ],
      "execution_count": 18,
      "outputs": [
        {
          "output_type": "stream",
          "text": [
            "True\n",
            "False\n"
          ],
          "name": "stdout"
        }
      ]
    },
    {
      "cell_type": "markdown",
      "metadata": {
        "id": "7aH069SGCFMd"
      },
      "source": [
        "Ex 4: Transposer\n",
        "\n",
        "Programmer une fonction qui, étant donné une matrice à deux dimensions A, retourne lamatrice B dont la première colonne est la première ligne de A, la seconde la deuxième ligne de A, etc. B s’appelle la transposée de A."
      ]
    },
    {
      "cell_type": "code",
      "metadata": {
        "colab": {
          "base_uri": "https://localhost:8080/"
        },
        "id": "OPEbGvTRCFMd",
        "outputId": "87343239-ac2d-419d-bdf5-7647087026c2"
      },
      "source": [
        "def transpose(m):\n",
        "  if m.shape[0] == 2 and m.shape[1] == 2:\n",
        "    res = np.zeros((m.shape[0], m.shape[1]))\n",
        "    res[0][1] = m[1][0]\n",
        "    res[1][0] = m[0][1]\n",
        "    res[1][1] = m[0][0]\n",
        "    res[0][0] = m[1][1]\n",
        "    return res\n",
        "  else:\n",
        "    print(\"Cette matrice n'est pas 2*2\")\n",
        "\n",
        "m = np.array([ [1, -1], [1, 2] ])\n",
        "\n",
        "print(transpose(m))"
      ],
      "execution_count": 19,
      "outputs": [
        {
          "output_type": "stream",
          "text": [
            "[[ 2.  1.]\n",
            " [-1.  1.]]\n"
          ],
          "name": "stdout"
        }
      ]
    },
    {
      "cell_type": "markdown",
      "metadata": {
        "id": "Yk4EcKpSCFMd"
      },
      "source": [
        "Ex 5: Permutations\n",
        "1. $M$ désignant une matrice quelconque d’entiers à $l_i$ lignes et $co$ colonnes, $n$ un entier quelconque, programmer une fonction qui retourne la matrice $Sortie$ qui empile verticalement les $co+1$ matrices obtenues en adjoignant à $M$ une colonne $A$ à $li$ lignes dont tousles éléments sont égaux à $n$, $A$ étant placée d’abord devant $M$, puis entre la première et deuxième colonne de $M^a$,etc, jusqu’à ce que $A$ devienne sa dernière colonne. La matriceobtenue  aura $co+1$ colonnes et $(n+1)$ $li$ lignes\n",
        "\n",
        "2. Écrire toutes les permutations de(1, ..., n)"
      ]
    }
  ]
}